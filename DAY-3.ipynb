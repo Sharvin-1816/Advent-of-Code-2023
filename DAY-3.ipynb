{
 "cells": [
  {
   "cell_type": "code",
   "execution_count": null,
   "id": "b6e16a28",
   "metadata": {},
   "outputs": [],
   "source": [
    "a='''467..114..\n",
    "...*......\n",
    "..35..633.\n",
    "......#...\n",
    "617*......\n",
    ".....+.58.\n",
    "..592.....\n",
    "......755.\n",
    "...$.*....\n",
    ".664.598..\n",
    "'''\n",
    "l4=['@','#','$','%','*','&','/','\\/','\\\\','-']\n",
    "s,l1,l2,l3='',[],[],[]\n",
    "for i in a:\n",
    "    l1.append(i)\n",
    "    if i=='\\n':\n",
    "        l1.remove('\\n')\n",
    "        l2.append(l1)\n",
    "        l1=[]\n",
    "ar=numpy.array(l2)\n",
    "for row,x in enumerate(ar):\n",
    "    for column,y in enumerate(x):\n",
    "        if row!=0 and row!=9 and column!=9 and column!=9:\n",
    "            if ar[row,column].isdigit() and ((ar[row,column+1] in l4) or (ar[row+1,column] in l4)  or (ar[row+1,column+1] in l4) or (ar[row-1,column] in l4) or (ar[row-1,column+1] in l4) or (ar[row-1,column-1] in l4)  or (ar[row,column-1] in l4) or (ar[row+1,column-1] in l4) \n",
    "                if ar[row,column+1].isdigit() and ar[row,column+2].isdigit():\n",
    "                    num=ar[row,column]+ar[row,column+1]+ar[row,column+2]\n",
    "            "
   ]
  },
  {
   "cell_type": "code",
   "execution_count": 7,
   "id": "63c0e331",
   "metadata": {},
   "outputs": [
    {
     "name": "stdout",
     "output_type": "stream",
     "text": [
      "[['4' '6' '7' '.' '.' '1' '1' '4' '.' '.']\n",
      " ['.' '.' '.' '*' '.' '.' '.' '.' '.' '.']\n",
      " ['.' '.' '3' '5' '.' '.' '6' '3' '3' '.']\n",
      " ['.' '.' '.' '.' '.' '.' '#' '.' '.' '.']\n",
      " ['6' '1' '7' '*' '.' '.' '.' '.' '.' '.']\n",
      " ['.' '.' '.' '.' '.' '+' '.' '5' '8' '.']\n",
      " ['.' '.' '5' '9' '2' '.' '.' '.' '.' '.']\n",
      " ['.' '.' '.' '.' '.' '.' '7' '5' '5' '.']\n",
      " ['.' '.' '.' '$' '.' '*' '.' '.' '.' '.']\n",
      " ['.' '6' '6' '4' '.' '5' '9' '8' '.' '.']]\n"
     ]
    }
   ],
   "source": [
    "import numpy as np\n",
    "a='''467..114..\n",
    "...*......\n",
    "..35..633.\n",
    "......#...\n",
    "617*......\n",
    ".....+.58.\n",
    "..592.....\n",
    "......755.\n",
    "...$.*....\n",
    ".664.598..\n",
    "'''\n",
    "l4=['@','#','$','%','*','&','/','\\/','\\\\','-']\n",
    "s,l1,l2,l3='',[],[],[]\n",
    "for i in a:\n",
    "    l1.append(i)\n",
    "    if i=='\\n':\n",
    "        l1.remove('\\n')\n",
    "        l2.append(l1)\n",
    "        l1=[]\n",
    "ar=np.array(l2)\n",
    "print(ar)"
   ]
  },
  {
   "cell_type": "code",
   "execution_count": null,
   "id": "bf857c09",
   "metadata": {},
   "outputs": [],
   "source": []
  }
 ],
 "metadata": {
  "kernelspec": {
   "display_name": "Python 3 (ipykernel)",
   "language": "python",
   "name": "python3"
  },
  "language_info": {
   "codemirror_mode": {
    "name": "ipython",
    "version": 3
   },
   "file_extension": ".py",
   "mimetype": "text/x-python",
   "name": "python",
   "nbconvert_exporter": "python",
   "pygments_lexer": "ipython3",
   "version": "3.11.4"
  }
 },
 "nbformat": 4,
 "nbformat_minor": 5
}
