{
 "cells": [
  {
   "cell_type": "code",
   "execution_count": 71,
   "id": "c2c837b7",
   "metadata": {},
   "outputs": [
    {
     "name": "stdout",
     "output_type": "stream",
     "text": [
      "['Card 1', ['41', '48', '83', '86', '17'], ['83', '86', '6', '31', '17', '9', '48', '53']]\n",
      "['Card 2', ['13', '32', '20', '16', '61'], ['61', '30', '68', '82', '17', '32', '24', '19']]\n",
      "['Card 3', ['1', '21', '53', '59', '44'], ['69', '82', '63', '72', '16', '21', '14', '1']]\n",
      "['Card 4', ['41', '92', '73', '84', '69'], ['59', '84', '76', '51', '58', '5', '54', '83']]\n",
      "['Card 5', ['87', '83', '26', '28', '32'], ['88', '30', '70', '12', '93', '22', '82', '36']]\n",
      "['Card 6', ['31', '18', '13', '56', '72'], ['74', '77', '10', '23', '35', '67', '36', '11']]\n",
      "13\n"
     ]
    }
   ],
   "source": [
    "#PART 1\n",
    "\n",
    "s=open(r\"C:\\Users\\Admin\\Desktop\\aoc (2).txt\",'r')\n",
    "b=s.readlines()\n",
    "a=0\n",
    "l=[]\n",
    "for x in b:\n",
    "    c=x.split(\":\")\n",
    "    d=c[1].split(\"|\")\n",
    "    c.pop(1)\n",
    "    c.extend(d)\n",
    "    c[1]=c[1].split()\n",
    "    c[2]=c[2].split()\n",
    "    for x in c[2]:\n",
    "        if x in c[1]:\n",
    "            if a==0:\n",
    "                a=1\n",
    "            elif a!=0:\n",
    "                a=a*2\n",
    "    l.append(a)\n",
    "    print(c)\n",
    "    a=0\n",
    "print(sum(l))"
   ]
  },
  {
   "cell_type": "code",
   "execution_count": 25,
   "id": "3c0f2191",
   "metadata": {},
   "outputs": [
    {
     "name": "stderr",
     "output_type": "stream",
     "text": [
      "IOPub data rate exceeded.\n",
      "The notebook server will temporarily stop sending output\n",
      "to the client in order to avoid crashing it.\n",
      "To change this limit, set the config variable\n",
      "`--NotebookApp.iopub_data_rate_limit`.\n",
      "\n",
      "Current values:\n",
      "NotebookApp.iopub_data_rate_limit=1000000.0 (bytes/sec)\n",
      "NotebookApp.rate_limit_window=3.0 (secs)\n",
      "\n"
     ]
    },
    {
     "name": "stdout",
     "output_type": "stream",
     "text": [
      "8549735\n"
     ]
    }
   ],
   "source": [
    "#PART-2\n",
    "\n",
    "s=open(r\"C:\\Users\\Admin\\Desktop\\aoc (2).txt\",'r')\n",
    "b=s.readlines()\n",
    "a=0\n",
    "l=[]\n",
    "l1=[]\n",
    "l2=[]\n",
    "dic={}\n",
    "for x in b:\n",
    "    c=x.split(\":\")\n",
    "    d=c[1].split(\"|\")\n",
    "    c.pop(1)\n",
    "    c.extend(d)\n",
    "    c[1]=c[1].split()\n",
    "    c[2]=c[2].split()\n",
    "    for x in c[2]:\n",
    "        if x in c[1]:\n",
    "            a=a+1\n",
    "    l.append(c)\n",
    "    l1.append(a)\n",
    "    dic.update({c[0]:a})\n",
    "    l2.append(c[0])\n",
    "    a=0 \n",
    "\n",
    "for x in l2:\n",
    "    val=dic[x]\n",
    "    for y in l2[l2.index(x)+1:l2.index(x)+val+1]:\n",
    "        l2.append(y)\n",
    "print(l2)\n",
    "l3=[]\n",
    "for x in l2:\n",
    "    l3.append(dic[x])\n",
    "print(len(l3))\n",
    "\n",
    "# for x in l2:\n",
    "#     ind=l2.index(x)\n",
    "#     for y in l2[ind+1:x]:\n",
    "#         ind1=l2.index(y)\n",
    "#         l2[ind1]=l2[ind1]*2\n",
    "\n",
    "# for x in l:\n",
    "#     ind=l.index(x)\n",
    "#     for y in l[ind+1:l1[ind]+1]:\n",
    "#         l2.append(y)\n",
    "# print(len(l2))\n",
    "    "
   ]
  },
  {
   "cell_type": "code",
   "execution_count": null,
   "id": "ff1bfa3b",
   "metadata": {},
   "outputs": [],
   "source": []
  }
 ],
 "metadata": {
  "kernelspec": {
   "display_name": "Python 3 (ipykernel)",
   "language": "python",
   "name": "python3"
  },
  "language_info": {
   "codemirror_mode": {
    "name": "ipython",
    "version": 3
   },
   "file_extension": ".py",
   "mimetype": "text/x-python",
   "name": "python",
   "nbconvert_exporter": "python",
   "pygments_lexer": "ipython3",
   "version": "3.11.4"
  }
 },
 "nbformat": 4,
 "nbformat_minor": 5
}
