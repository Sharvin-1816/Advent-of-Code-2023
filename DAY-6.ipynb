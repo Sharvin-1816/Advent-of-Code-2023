{
 "cells": [
  {
   "cell_type": "code",
   "execution_count": 18,
   "id": "78456770",
   "metadata": {},
   "outputs": [
    {
     "name": "stdout",
     "output_type": "stream",
     "text": [
      "[['Time', '        51     69     98     78\\n'], ['Distance', '   377   1171   1224   1505']]\n",
      "['51', '69', '98', '78']\n",
      "['377', '1171', '1224', '1505']\n",
      "{'51': '377', '69': '1171', '98': '1224', '78': '1505'}\n",
      "131376\n"
     ]
    }
   ],
   "source": [
    "#PART-1\n",
    "\n",
    "import numpy as np\n",
    "s=open(r\"C:\\Users\\Admin\\Desktop\\aoc (2).txt\",'r')\n",
    "a=s.readlines()\n",
    "l=[]\n",
    "for x in a:\n",
    "    l.append(x.split(\":\"))\n",
    "print(l)\n",
    "time=l[0][1].split()\n",
    "distance=l[1][1].split()\n",
    "print(time)\n",
    "print(distance)\n",
    "dic=dict(zip(time,distance))\n",
    "print(dic)\n",
    "time_pressed=0\n",
    "b=0\n",
    "final=[]\n",
    "for x in dic.keys():\n",
    "    while time_pressed!=int(x):\n",
    "        speed=time_pressed\n",
    "        t=int(x)-time_pressed\n",
    "        dist=speed*t\n",
    "        if dist>int(dic[x]):\n",
    "            b=b+1\n",
    "        time_pressed=time_pressed+1\n",
    "    time_pressed=0\n",
    "    final.append(b)\n",
    "    b=0\n",
    "last=np.array(final)\n",
    "print(np.prod(last))"
   ]
  },
  {
   "cell_type": "code",
   "execution_count": 25,
   "id": "ee3e06e6",
   "metadata": {},
   "outputs": [
    {
     "name": "stdout",
     "output_type": "stream",
     "text": [
      "[['Time', '        51     69     98     78\\n'], ['Distance', '   377   1171   1224   1505']]\n",
      "51699878\n",
      "377117112241505\n",
      "{'51699878': '377117112241505'}\n",
      "34123437\n"
     ]
    }
   ],
   "source": [
    "import numpy as np\n",
    "s=open(r\"C:\\Users\\Admin\\Desktop\\aoc (2).txt\",'r')\n",
    "a=s.readlines()\n",
    "l=[]\n",
    "for x in a:\n",
    "    l.append(x.split(\":\"))\n",
    "print(l)\n",
    "time=l[0][1].split()\n",
    "distance=l[1][1].split()\n",
    "time1=\"\".join(time)\n",
    "distance1=\"\".join(distance)\n",
    "print(time1)\n",
    "print(distance1)\n",
    "dic={time1:distance1}\n",
    "print(dic)\n",
    "time_pressed=0\n",
    "b=0\n",
    "final=[]\n",
    "for x in dic.keys():\n",
    "    while time_pressed!=int(x):\n",
    "        speed=time_pressed\n",
    "        t=int(x)-time_pressed\n",
    "        dist=speed*t\n",
    "        if dist>int(dic[x]):\n",
    "            b=b+1\n",
    "        time_pressed=time_pressed+1\n",
    "    time_pressed=0\n",
    "    final.append(b)\n",
    "    b=0\n",
    "last=np.array(final)\n",
    "print(np.prod(last))"
   ]
  },
  {
   "cell_type": "code",
   "execution_count": null,
   "id": "3a0b0ea6",
   "metadata": {},
   "outputs": [],
   "source": []
  }
 ],
 "metadata": {
  "kernelspec": {
   "display_name": "Python 3 (ipykernel)",
   "language": "python",
   "name": "python3"
  },
  "language_info": {
   "codemirror_mode": {
    "name": "ipython",
    "version": 3
   },
   "file_extension": ".py",
   "mimetype": "text/x-python",
   "name": "python",
   "nbconvert_exporter": "python",
   "pygments_lexer": "ipython3",
   "version": "3.11.4"
  }
 },
 "nbformat": 4,
 "nbformat_minor": 5
}
