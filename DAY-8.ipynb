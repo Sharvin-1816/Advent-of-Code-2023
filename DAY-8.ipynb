{
 "cells": [
  {
   "cell_type": "code",
   "execution_count": 1,
   "id": "b672dcfa",
   "metadata": {
    "scrolled": true
   },
   "outputs": [
    {
     "name": "stdout",
     "output_type": "stream",
     "text": [
      "18113\n"
     ]
    }
   ],
   "source": [
    "#PART-1\n",
    "\n",
    "s = open(r\"C:\\Users\\Admin\\Desktop\\aoc (2).txt\", 'r')\n",
    "a = s.readlines()\n",
    "numeric=[]\n",
    "for x in a[0]:\n",
    "    if x!='\\n':\n",
    "        if x==\"R\":\n",
    "            numeric.append(1)\n",
    "        elif x==\"L\":\n",
    "            numeric.append(0)\n",
    "i = 2\n",
    "l = []\n",
    "\n",
    "while i != 720:\n",
    "    l.append(a[i].strip())  # Use strip() to remove newline characters\n",
    "    i = i + 1\n",
    "l1=[]\n",
    "for x in l:\n",
    "    l1.append((x[7:10],x[12:15]))\n",
    "dic={}\n",
    "z=0\n",
    "for x in l:\n",
    "    dic.update({x[0:3]:l1[z]})\n",
    "    z=z+1\n",
    "b='AAA'\n",
    "j=0\n",
    "while b!='ZZZ':\n",
    "    for x in numeric:\n",
    "        b=dic[b][x]\n",
    "        j=j+1\n",
    "print(j)\n",
    "    \n",
    "    \n",
    "\n",
    "\n"
   ]
  },
  {
   "cell_type": "code",
   "execution_count": null,
   "id": "79fad5df",
   "metadata": {},
   "outputs": [],
   "source": []
  }
 ],
 "metadata": {
  "kernelspec": {
   "display_name": "Python 3 (ipykernel)",
   "language": "python",
   "name": "python3"
  },
  "language_info": {
   "codemirror_mode": {
    "name": "ipython",
    "version": 3
   },
   "file_extension": ".py",
   "mimetype": "text/x-python",
   "name": "python",
   "nbconvert_exporter": "python",
   "pygments_lexer": "ipython3",
   "version": "3.11.4"
  }
 },
 "nbformat": 4,
 "nbformat_minor": 5
}
